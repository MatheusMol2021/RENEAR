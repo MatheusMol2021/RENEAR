{
  "nbformat": 4,
  "nbformat_minor": 0,
  "metadata": {
    "colab": {
      "provenance": []
    },
    "kernelspec": {
      "name": "python3",
      "display_name": "Python 3"
    },
    "language_info": {
      "name": "python"
    }
  },
  "cells": [
    {
      "cell_type": "code",
      "execution_count": null,
      "metadata": {
        "colab": {
          "base_uri": "https://localhost:8080/"
        },
        "id": "nH4cG99ez4Qo",
        "outputId": "38edeca9-cc35-458a-c588-14e8447af6b7"
      },
      "outputs": [
        {
          "output_type": "stream",
          "name": "stdout",
          "text": [
            "Downloading data from https://storage.googleapis.com/tensorflow/tf-keras-datasets/reuters.npz\n",
            "2110848/2110848 [==============================] - 0s 0us/step\n"
          ]
        },
        {
          "output_type": "execute_result",
          "data": {
            "text/plain": [
              "((8982,), (8982,), (2246,), (2246,))"
            ]
          },
          "metadata": {},
          "execution_count": 1
        }
      ],
      "source": [
        "from tensorflow.keras.datasets import reuters\n",
        "(train_data, train_labels), (test_data, test_labels) = reuters.load_data(num_words=10000)\n",
        "train_data.shape, train_labels.shape, test_data.shape, test_labels.shape    \n"
      ]
    },
    {
      "cell_type": "code",
      "source": [
        "train_data[0:1], train_labels[0:1]"
      ],
      "metadata": {
        "colab": {
          "base_uri": "https://localhost:8080/"
        },
        "id": "wHvNxAdvz_OC",
        "outputId": "b9c4c055-88a4-4cca-851e-a46dba899f21"
      },
      "execution_count": null,
      "outputs": [
        {
          "output_type": "execute_result",
          "data": {
            "text/plain": [
              "(array([list([1, 2, 2, 8, 43, 10, 447, 5, 25, 207, 270, 5, 3095, 111, 16, 369, 186, 90, 67, 7, 89, 5, 19, 102, 6, 19, 124, 15, 90, 67, 84, 22, 482, 26, 7, 48, 4, 49, 8, 864, 39, 209, 154, 6, 151, 6, 83, 11, 15, 22, 155, 11, 15, 7, 48, 9, 4579, 1005, 504, 6, 258, 6, 272, 11, 15, 22, 134, 44, 11, 15, 16, 8, 197, 1245, 90, 67, 52, 29, 209, 30, 32, 132, 6, 109, 15, 17, 12])],\n",
              "       dtype=object),\n",
              " array([3]))"
            ]
          },
          "metadata": {},
          "execution_count": 2
        }
      ]
    },
    {
      "cell_type": "code",
      "source": [
        "def decode_words(word_index, sentence):\n",
        "    reverse_word_index = dict(\n",
        "        [(value, key) for (key, value) in word_index.items()]\n",
        "    )\n",
        "    return \" \".join(\n",
        "        [reverse_word_index.get(i-3, \"?\") for i in sentence]\n",
        "    )\n",
        "decode_words(reuters.get_word_index(), train_data[0])\n"
      ],
      "metadata": {
        "colab": {
          "base_uri": "https://localhost:8080/",
          "height": 142
        },
        "id": "2E5IoHNh0EqO",
        "outputId": "4b829864-960d-4b05-8d38-93dfb7b5b3f3"
      },
      "execution_count": null,
      "outputs": [
        {
          "output_type": "stream",
          "name": "stdout",
          "text": [
            "Downloading data from https://storage.googleapis.com/tensorflow/tf-keras-datasets/reuters_word_index.json\n",
            "550378/550378 [==============================] - 0s 0us/step\n"
          ]
        },
        {
          "output_type": "execute_result",
          "data": {
            "text/plain": [
              "'? ? ? said as a result of its december acquisition of space co it expects earnings per share in 1987 of 1 15 to 1 30 dlrs per share up from 70 cts in 1986 the company said pretax net should rise to nine to 10 mln dlrs from six mln dlrs in 1986 and rental operation revenues to 19 to 22 mln dlrs from 12 5 mln dlrs it said cash flow per share this year should be 2 50 to three dlrs reuter 3'"
            ],
            "application/vnd.google.colaboratory.intrinsic+json": {
              "type": "string"
            }
          },
          "metadata": {},
          "execution_count": 3
        }
      ]
    },
    {
      "cell_type": "code",
      "source": [
        "import numpy as np\n",
        "def vectorize_sequences(sequences, dimension=10000):\n",
        "  results = np.zeros((len(sequences), dimension))\n",
        "  for i, sequence in enumerate(sequences):\n",
        "    for j in sequence:\n",
        "      results[i, j] = 1\n",
        "  return results\n",
        "x_train = vectorize_sequences(train_data)\n",
        "x_test = vectorize_sequences(test_data)\n",
        "x_train.shape, x_test.shape, x_train[0:3,:50]"
      ],
      "metadata": {
        "colab": {
          "base_uri": "https://localhost:8080/"
        },
        "id": "HUkaa7vk0GkL",
        "outputId": "34f97574-543b-41e2-b889-b21dd4447721"
      },
      "execution_count": null,
      "outputs": [
        {
          "output_type": "execute_result",
          "data": {
            "text/plain": [
              "((8982, 10000),\n",
              " (2246, 10000),\n",
              " array([[0., 1., 1., 0., 1., 1., 1., 1., 1., 1., 1., 1., 1., 0., 0., 1.,\n",
              "         1., 1., 0., 1., 0., 0., 1., 0., 0., 1., 1., 0., 0., 1., 1., 0.,\n",
              "         1., 0., 0., 0., 0., 0., 0., 1., 0., 0., 0., 1., 1., 0., 0., 0.,\n",
              "         1., 1.],\n",
              "        [0., 1., 1., 0., 1., 1., 0., 1., 1., 1., 1., 0., 1., 0., 0., 0.,\n",
              "         1., 1., 0., 0., 1., 0., 0., 0., 0., 0., 0., 0., 0., 0., 0., 0.,\n",
              "         0., 0., 1., 1., 0., 0., 0., 0., 0., 0., 0., 0., 1., 0., 0., 0.,\n",
              "         1., 1.],\n",
              "        [0., 1., 1., 0., 1., 1., 0., 1., 0., 1., 0., 1., 1., 1., 1., 1.,\n",
              "         0., 1., 1., 1., 0., 0., 0., 0., 0., 0., 1., 0., 0., 1., 0., 0.,\n",
              "         1., 0., 0., 0., 0., 0., 0., 1., 0., 0., 0., 0., 1., 0., 1., 1.,\n",
              "         1., 0.]]))"
            ]
          },
          "metadata": {},
          "execution_count": 4
        }
      ]
    },
    {
      "cell_type": "code",
      "source": [
        "from keras.preprocessing.text import Tokenizer\n",
        "tokenizer = Tokenizer(num_words=10000)\n",
        "x_train = tokenizer.sequences_to_matrix(train_data)\n",
        "x_test = tokenizer.sequences_to_matrix(test_data)\n",
        "x_train.shape, x_test.shape, x_train[0:3,:50]"
      ],
      "metadata": {
        "colab": {
          "base_uri": "https://localhost:8080/"
        },
        "id": "XvS9bCHC0NAq",
        "outputId": "a720cb9c-2d4d-4687-e2f9-1e7dbf203a10"
      },
      "execution_count": null,
      "outputs": [
        {
          "output_type": "execute_result",
          "data": {
            "text/plain": [
              "((8982, 10000),\n",
              " (2246, 10000),\n",
              " array([[0., 1., 1., 0., 1., 1., 1., 1., 1., 1., 1., 1., 1., 0., 0., 1.,\n",
              "         1., 1., 0., 1., 0., 0., 1., 0., 0., 1., 1., 0., 0., 1., 1., 0.,\n",
              "         1., 0., 0., 0., 0., 0., 0., 1., 0., 0., 0., 1., 1., 0., 0., 0.,\n",
              "         1., 1.],\n",
              "        [0., 1., 1., 0., 1., 1., 0., 1., 1., 1., 1., 0., 1., 0., 0., 0.,\n",
              "         1., 1., 0., 0., 1., 0., 0., 0., 0., 0., 0., 0., 0., 0., 0., 0.,\n",
              "         0., 0., 1., 1., 0., 0., 0., 0., 0., 0., 0., 0., 1., 0., 0., 0.,\n",
              "         1., 1.],\n",
              "        [0., 1., 1., 0., 1., 1., 0., 1., 0., 1., 0., 1., 1., 1., 1., 1.,\n",
              "         0., 1., 1., 1., 0., 0., 0., 0., 0., 0., 1., 0., 0., 1., 0., 0.,\n",
              "         1., 0., 0., 0., 0., 0., 0., 1., 0., 0., 0., 0., 1., 0., 1., 1.,\n",
              "         1., 0.]]))"
            ]
          },
          "metadata": {},
          "execution_count": 5
        }
      ]
    },
    {
      "cell_type": "code",
      "source": [
        "def to_one_hot(labels):\n",
        "  dimension = len(set(labels))\n",
        "  results = np.zeros((len(labels), dimension))\n",
        "  for i, label in enumerate(labels):\n",
        "    results[i, label] = 1\n",
        "  return results\n",
        "y_train = to_one_hot(train_labels)\n",
        "y_test = to_one_hot(test_labels)\n",
        "y_train.shape, y_test.shape"
      ],
      "metadata": {
        "colab": {
          "base_uri": "https://localhost:8080/"
        },
        "id": "lp9IsaN10RQo",
        "outputId": "aa723c62-a47f-46d2-c9d0-2ff7ef4ba925"
      },
      "execution_count": null,
      "outputs": [
        {
          "output_type": "execute_result",
          "data": {
            "text/plain": [
              "((8982, 46), (2246, 46))"
            ]
          },
          "metadata": {},
          "execution_count": 6
        }
      ]
    },
    {
      "cell_type": "code",
      "source": [
        "from tensorflow.keras.utils import to_categorical\n",
        "y_train = to_categorical(train_labels)\n",
        "y_test = to_categorical(test_labels)\n",
        "y_train.shape, y_test.shape"
      ],
      "metadata": {
        "colab": {
          "base_uri": "https://localhost:8080/"
        },
        "id": "HushpCWN0VoJ",
        "outputId": "fa6eabd2-3358-45af-c53d-7fcc8eeb9b03"
      },
      "execution_count": null,
      "outputs": [
        {
          "output_type": "execute_result",
          "data": {
            "text/plain": [
              "((8982, 46), (2246, 46))"
            ]
          },
          "metadata": {},
          "execution_count": 7
        }
      ]
    },
    {
      "cell_type": "code",
      "source": [
        "from keras.engine.training import optimizer\n",
        "from tensorflow import keras\n",
        "from tensorflow.keras import layers\n",
        "\n",
        "model = keras.Sequential([\n",
        "    layers.Dense(64, activation=\"relu\"),\n",
        "    ##layers.Dense(64, activation=\"relu\"),\n",
        "    layers.Dense(46, activation=\"softmax\")\n",
        "])\n",
        "model.compile(optimizer=\"rmsprop\",\n",
        "              loss=\"categorical_crossentropy\",\n",
        "              metrics=[\"accuracy\"])"
      ],
      "metadata": {
        "id": "cgSiyhAD0Yrj"
      },
      "execution_count": 15,
      "outputs": []
    },
    {
      "cell_type": "code",
      "source": [
        "n_val = 1000\n",
        "x_val = x_train[:n_val]\n",
        "partial_x_train = x_train[n_val:]\n",
        "y_val = y_train[:n_val]\n",
        "partial_y_train = y_train[n_val:]\n",
        "x_val.shape, partial_x_train.shape, y_val.shape, partial_y_train.shape"
      ],
      "metadata": {
        "colab": {
          "base_uri": "https://localhost:8080/"
        },
        "id": "zzv_RPdu0aYr",
        "outputId": "68207f33-6fce-495e-a703-c0debfe258c9"
      },
      "execution_count": 16,
      "outputs": [
        {
          "output_type": "execute_result",
          "data": {
            "text/plain": [
              "((1000, 10000), (7982, 10000), (1000, 46), (7982, 46))"
            ]
          },
          "metadata": {},
          "execution_count": 16
        }
      ]
    },
    {
      "cell_type": "code",
      "source": [
        "history = model.fit(partial_x_train, partial_y_train,\n",
        "                    epochs=20, batch_size=512,\n",
        "                    validation_data=(x_val, y_val))"
      ],
      "metadata": {
        "colab": {
          "base_uri": "https://localhost:8080/"
        },
        "id": "KFdCIfU60eAw",
        "outputId": "a768797a-79be-4a78-e5b7-3791b6cbc329"
      },
      "execution_count": 17,
      "outputs": [
        {
          "output_type": "stream",
          "name": "stdout",
          "text": [
            "Epoch 1/20\n",
            "16/16 [==============================] - 2s 70ms/step - loss: 2.6871 - accuracy: 0.5552 - val_loss: 1.8952 - val_accuracy: 0.6320\n",
            "Epoch 2/20\n",
            "16/16 [==============================] - 1s 56ms/step - loss: 1.5873 - accuracy: 0.6962 - val_loss: 1.4043 - val_accuracy: 0.7120\n",
            "Epoch 3/20\n",
            "16/16 [==============================] - 1s 55ms/step - loss: 1.1864 - accuracy: 0.7633 - val_loss: 1.1901 - val_accuracy: 0.7540\n",
            "Epoch 4/20\n",
            "16/16 [==============================] - 1s 54ms/step - loss: 0.9554 - accuracy: 0.8053 - val_loss: 1.0641 - val_accuracy: 0.7850\n",
            "Epoch 5/20\n",
            "16/16 [==============================] - 2s 106ms/step - loss: 0.7959 - accuracy: 0.8394 - val_loss: 0.9810 - val_accuracy: 0.7940\n",
            "Epoch 6/20\n",
            "16/16 [==============================] - 2s 116ms/step - loss: 0.6750 - accuracy: 0.8624 - val_loss: 0.9312 - val_accuracy: 0.7980\n",
            "Epoch 7/20\n",
            "16/16 [==============================] - 1s 54ms/step - loss: 0.5781 - accuracy: 0.8835 - val_loss: 0.8855 - val_accuracy: 0.8090\n",
            "Epoch 8/20\n",
            "16/16 [==============================] - 1s 50ms/step - loss: 0.4991 - accuracy: 0.8996 - val_loss: 0.8517 - val_accuracy: 0.8190\n",
            "Epoch 9/20\n",
            "16/16 [==============================] - 1s 79ms/step - loss: 0.4332 - accuracy: 0.9123 - val_loss: 0.8303 - val_accuracy: 0.8190\n",
            "Epoch 10/20\n",
            "16/16 [==============================] - 2s 97ms/step - loss: 0.3806 - accuracy: 0.9222 - val_loss: 0.8150 - val_accuracy: 0.8240\n",
            "Epoch 11/20\n",
            "16/16 [==============================] - 2s 98ms/step - loss: 0.3367 - accuracy: 0.9307 - val_loss: 0.8000 - val_accuracy: 0.8210\n",
            "Epoch 12/20\n",
            "16/16 [==============================] - 1s 90ms/step - loss: 0.2985 - accuracy: 0.9351 - val_loss: 0.7809 - val_accuracy: 0.8310\n",
            "Epoch 13/20\n",
            "16/16 [==============================] - 1s 78ms/step - loss: 0.2686 - accuracy: 0.9417 - val_loss: 0.7815 - val_accuracy: 0.8330\n",
            "Epoch 14/20\n",
            "16/16 [==============================] - 1s 76ms/step - loss: 0.2418 - accuracy: 0.9456 - val_loss: 0.7951 - val_accuracy: 0.8270\n",
            "Epoch 15/20\n",
            "16/16 [==============================] - 1s 85ms/step - loss: 0.2207 - accuracy: 0.9478 - val_loss: 0.7893 - val_accuracy: 0.8370\n",
            "Epoch 16/20\n",
            "16/16 [==============================] - 1s 63ms/step - loss: 0.2022 - accuracy: 0.9513 - val_loss: 0.7851 - val_accuracy: 0.8310\n",
            "Epoch 17/20\n",
            "16/16 [==============================] - 1s 77ms/step - loss: 0.1867 - accuracy: 0.9526 - val_loss: 0.7975 - val_accuracy: 0.8310\n",
            "Epoch 18/20\n",
            "16/16 [==============================] - 1s 80ms/step - loss: 0.1735 - accuracy: 0.9536 - val_loss: 0.7971 - val_accuracy: 0.8290\n",
            "Epoch 19/20\n",
            "16/16 [==============================] - 1s 64ms/step - loss: 0.1622 - accuracy: 0.9551 - val_loss: 0.8106 - val_accuracy: 0.8290\n",
            "Epoch 20/20\n",
            "16/16 [==============================] - 1s 90ms/step - loss: 0.1538 - accuracy: 0.9553 - val_loss: 0.8066 - val_accuracy: 0.8250\n"
          ]
        }
      ]
    },
    {
      "cell_type": "code",
      "source": [
        "import matplotlib.pyplot as plt\n",
        "history_dict = history.history\n",
        "loss_values = history_dict[\"loss\"]\n",
        "val_loss_values = history_dict[\"val_loss\"]\n",
        "epochs = range(1, len(loss_values)+1)\n",
        "plt.plot(epochs, loss_values, \"bo\", label=\"Trainig loss\")\n",
        "plt.plot(epochs, val_loss_values, \"b\", label=\"validation loss\")\n",
        "plt.title(\"Training and validation loss\")\n",
        "plt.xlabel(\"Epochs\")\n",
        "plt.ylabel(\"Loss\")\n",
        "plt.legend()\n",
        "plt.show()"
      ],
      "metadata": {
        "colab": {
          "base_uri": "https://localhost:8080/",
          "height": 472
        },
        "id": "WRQR32J10kyb",
        "outputId": "182353c9-e9dd-4106-b7f9-630852d93564"
      },
      "execution_count": 18,
      "outputs": [
        {
          "output_type": "display_data",
          "data": {
            "text/plain": [
              "<Figure size 640x480 with 1 Axes>"
            ],
            "image/png": "[encoded data removed]"
          },
          "metadata": {}
        }
      ]
    },
    {
      "cell_type": "code",
      "source": [
        "import matplotlib.pyplot as plt\n",
        "history_dict = history.history\n",
        "accuracy_values = history_dict[\"accuracy\"]\n",
        "val_accuracy_values = history_dict[\"val_accuracy\"]\n",
        "epochs = range(1, len(accuracy_values)+1)\n",
        "plt.plot(epochs, accuracy_values, \"bo\", label=\"Trainig acc\")\n",
        "plt.plot(epochs, val_accuracy_values, \"b\", label=\"validation acc\")\n",
        "plt.title(\"Training and validation accuracy\")\n",
        "plt.xlabel(\"Epochs\")\n",
        "plt.ylabel(\"Accuracy\")\n",
        "plt.legend()\n",
        "plt.show()"
      ],
      "metadata": {
        "colab": {
          "base_uri": "https://localhost:8080/",
          "height": 472
        },
        "id": "NlN9liAk0qcq",
        "outputId": "fb4984d1-f192-42bd-c8b7-99834f52e894"
      },
      "execution_count": 19,
      "outputs": [
        {
          "output_type": "display_data",
          "data": {
            "text/plain": [
              "<Figure size 640x480 with 1 Axes>"
            ],
            "image/png": "[encoded data removed]"
          },
          "metadata": {}
        }
      ]
    },
    {
      "cell_type": "code",
      "source": [
        "results = model.evaluate(x_test, y_test)"
      ],
      "metadata": {
        "colab": {
          "base_uri": "https://localhost:8080/"
        },
        "id": "w7qIL9OO1ycD",
        "outputId": "1dff874e-8ea6-40bd-9533-c0bde560b370"
      },
      "execution_count": 20,
      "outputs": [
        {
          "output_type": "stream",
          "name": "stdout",
          "text": [
            "71/71 [==============================] - 0s 4ms/step - loss: 0.9038 - accuracy: 0.8041\n"
          ]
        }
      ]
    }
  ]
}